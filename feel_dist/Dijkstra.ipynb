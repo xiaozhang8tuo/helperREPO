{
 "cells": [
  {
   "cell_type": "markdown",
   "metadata": {},
   "source": [
    "# Dijkstra Algorithm #"
   ]
  },
  {
   "cell_type": "code",
   "execution_count": 1,
   "metadata": {},
   "outputs": [],
   "source": [
    "from util.Graph_and_Vertex import Graph\n",
    "from util.Graph_and_Vertex import Vertex\n",
    "import util.reader as reader\n",
    "import heapq\n",
    "\n",
    "def shortest(v, path):\n",
    "    ''' make shortest path from v.previous'''\n",
    "    if v.previous:\n",
    "        path.append(v.previous.getVertexID())\n",
    "        shortest(v.previous, path)\n",
    "    return\n",
    "\n",
    "def dijkstra(G, source, destination):\n",
    "    print('''Dijkstra's shortest path''')\n",
    "    # Set the distance for the source node to zero \n",
    "    source.setDistance(0)\n",
    "\n",
    "    # Put tuple pair into the priority queue    \n",
    "    # Put all vertex into the priority queue  \n",
    "    unvisitedQueue = [(v.getDistance(), v) for v in G]     \n",
    "    heapq.heapify(unvisitedQueue)\n",
    "\n",
    "    while len(unvisitedQueue):\n",
    "        # Pops a vertex with the smallest distance \n",
    "        uv = heapq.heappop(unvisitedQueue)\n",
    "        current = uv[1]\n",
    "        current.setVisited()\n",
    "\n",
    "        # for next in v.adjacent:\n",
    "        for next in current.adjacent:\n",
    "            # if visited, skip\n",
    "            if next.visited:\n",
    "                continue\n",
    "            newDist = current.getDistance() + current.getWeight(next)\n",
    "            \n",
    "            if newDist < next.getDistance():\n",
    "                next.setDistance(newDist)\n",
    "                next.setPrevious(current)\n",
    "                print('Updated : current = %s next = %s newDist = %s' \\\n",
    "                        % (current.getVertexID(), next.getVertexID(), next.getDistance()))\n",
    "            else:\n",
    "                print('Not updated : current = %s next = %s newDist = %s' \\\n",
    "                        % (current.getVertexID(), next.getVertexID(), next.getDistance()))\n",
    "\n",
    "        # Rebuild heap  因为节点的属性更新了 而队列中的属性没有更新 重新更新下队列\n",
    "        # 1. Pop every item\n",
    "        while len(unvisitedQueue):\n",
    "            heapq.heappop(unvisitedQueue)\n",
    "        # 2. Put all vertices not visited into the queue\n",
    "        unvisitedQueue = [(v.getDistance(), v) for v in G if not v.visited]\n",
    "        heapq.heapify(unvisitedQueue)"
   ]
  },
  {
   "cell_type": "code",
   "execution_count": 7,
   "metadata": {},
   "outputs": [],
   "source": [
    "# import heapq\n",
    "\n",
    "# def shortest(v, path):\n",
    "#     ''' make shortest path from v.previous'''\n",
    "#     if v.previous:\n",
    "#         path.append(v.previous.getVertexID())\n",
    "#         shortest(v.previous, path)\n",
    "#     return\n",
    "\n",
    "# def dijkstra(G, source, destination):\n",
    "#     print('''Dijkstra's shortest path''')\n",
    "#     # Set the distance for the source node to zero \n",
    "#     source.setDistance(0)\n",
    "\n",
    "#     # Put tuple pair into the priority queue\n",
    "#     unvisitedQueue = [(source.getDistance(), source) ]\n",
    "#     heapq.heapify(unvisitedQueue)\n",
    "\n",
    "#     while len(unvisitedQueue):\n",
    "#         # Pops a vertex with the smallest distance \n",
    "#         uv = heapq.heappop(unvisitedQueue)\n",
    "#         current = uv[1]\n",
    "#         current.setVisited()\n",
    "\n",
    "#         # for next in v.adjacent:\n",
    "#         for next in current.adjacent:\n",
    "#             # if visited, skip\n",
    "#             if next.visited:\n",
    "#                 continue\n",
    "#             newDist = current.getDistance() + current.getWeight(next)\n",
    "            \n",
    "#             if newDist < next.getDistance():\n",
    "#                 next.setDistance(newDist)\n",
    "#                 next.setPrevious(current)\n",
    "#                 print('Updated : current = %s next = %s newDist = %s' \\\n",
    "#                         % (current.getVertexID(), next.getVertexID(), next.getDistance()))\n",
    "                \n",
    "#             else:\n",
    "#                 print('Not updated : current = %s next = %s newDist = %s' \\\n",
    "#                         % (current.getVertexID(), next.getVertexID(), next.getDistance()))\n",
    "#             heapq.heappush(unvisitedQueue,(next.getDistance(),next))    "
   ]
  },
  {
   "cell_type": "code",
   "execution_count": 13,
   "metadata": {},
   "outputs": [],
   "source": [
    "a = set()\n",
    "a.update({i for i in range(5)})\n",
    "a.update({i for i in range(15)})"
   ]
  },
  {
   "cell_type": "code",
   "execution_count": 14,
   "metadata": {},
   "outputs": [
    {
     "data": {
      "text/plain": [
       "{0, 1, 2, 3, 4, 5, 6, 7, 8, 9, 10, 11, 12, 13, 14}"
      ]
     },
     "execution_count": 14,
     "metadata": {},
     "output_type": "execute_result"
    }
   ],
   "source": [
    "a"
   ]
  },
  {
   "cell_type": "code",
   "execution_count": 8,
   "metadata": {
    "collapsed": true
   },
   "outputs": [
    {
     "name": "stdout",
     "output_type": "stream",
     "text": [
      "( a , b,   4)\n",
      "( a , c,   1)\n",
      "( b , e,   4)\n",
      "( c , b,   2)\n",
      "( c , d,   4)\n",
      "( d , e,   4)\n"
     ]
    }
   ],
   "source": [
    "G = Graph(True)\n",
    "# G.addVertex('a')\n",
    "# G.addVertex('b')\n",
    "# G.addVertex('b')\n",
    "# G.addVertex('c')\n",
    "# G.addVertex('d')\n",
    "# G.addVertex('e')\n",
    "G.addEdge('a', 'b', 4)  \n",
    "G.addEdge('a', 'c', 1) \n",
    "G.addEdge('c', 'b', 2) \n",
    "G.addEdge('b', 'e', 4)\n",
    "G.addEdge('c', 'd', 4) \n",
    "G.addEdge('d', 'e', 4) \n",
    "\n",
    "for v in G:\n",
    "    for w in v.getConnections():\n",
    "        vid = v.getVertexID()\n",
    "        wid = w.getVertexID()\n",
    "        print('( %s , %s, %3d)' % (vid, wid, v.getWeight(w)))\n",
    "#############################################################\n",
    "source = G.getVertex('a')\n",
    "destination = G.getVertex('e')    \n",
    "dijkstra(G, source, destination) \n",
    "#############################################################\n",
    "for v in G.vertDictionary.values():\n",
    "    print(source.getVertexID(), \" to \", v.getVertexID(), \"-->\", v.getDistance())\n",
    "\n",
    "path = [destination.getVertexID()]\n",
    "shortest(destination, path)\n",
    "print ('The shortest path from a to e is: %s' % (path[::-1]))"
   ]
  },
  {
   "cell_type": "code",
   "execution_count": 2,
   "metadata": {},
   "outputs": [],
   "source": [
    "G = reader.read_data_piece(\"./data/dijkstra_test.csv\")"
   ]
  },
  {
   "cell_type": "code",
   "execution_count": 3,
   "metadata": {
    "scrolled": true
   },
   "outputs": [
    {
     "name": "stdout",
     "output_type": "stream",
     "text": [
      "Dijkstra's shortest path\n",
      "Updated : current = 1 next = 0 newDist = 5\n",
      "Updated : current = 1 next = 2 newDist = 12\n",
      "Updated : current = 1 next = 3 newDist = 15\n",
      "Updated : current = 1 next = 7 newDist = 4\n",
      "Not updated : current = 7 next = 0 newDist = 5\n",
      "Updated : current = 7 next = 4 newDist = 9\n",
      "Updated : current = 7 next = 2 newDist = 11\n",
      "Updated : current = 7 next = 5 newDist = 10\n",
      "Not updated : current = 0 next = 4 newDist = 9\n",
      "Not updated : current = 4 next = 5 newDist = 10\n",
      "Updated : current = 4 next = 6 newDist = 29\n",
      "Not updated : current = 5 next = 2 newDist = 11\n",
      "Updated : current = 5 next = 6 newDist = 23\n",
      "Updated : current = 2 next = 3 newDist = 14\n",
      "Updated : current = 2 next = 6 newDist = 22\n",
      "Not updated : current = 3 next = 6 newDist = 22\n",
      "0\n",
      "2\n",
      "3\n",
      "7\n"
     ]
    }
   ],
   "source": [
    "G.reset()\n",
    "source = G.getVertex('1')\n",
    "destination = G.getVertex('0')\n",
    "dijkstra(G, source, destination) \n",
    "for i in source.getConnections():\n",
    "    print(i.id)"
   ]
  },
  {
   "cell_type": "code",
   "execution_count": 4,
   "metadata": {},
   "outputs": [
    {
     "name": "stdout",
     "output_type": "stream",
     "text": [
      "1  to  0 --> 5\n",
      "1  to  1 --> 0\n",
      "1  to  4 --> 9\n",
      "1  to  7 --> 4\n",
      "1  to  2 --> 11\n",
      "1  to  3 --> 14\n",
      "1  to  6 --> 22\n",
      "1  to  5 --> 10\n",
      "The shortest path  is: ['1', '0']\n"
     ]
    }
   ],
   "source": [
    "for v in G.vertDictionary.values():\n",
    "    print(source.getVertexID(), \" to \", v.getVertexID(), \"-->\", v.getDistance())\n",
    "\n",
    "path = [destination.getVertexID()]\n",
    "shortest(destination, path)\n",
    "print ('The shortest path  is: %s' % (path[::-1]))"
   ]
  },
  {
   "cell_type": "code",
   "execution_count": null,
   "metadata": {},
   "outputs": [],
   "source": []
  }
 ],
 "metadata": {
  "kernelspec": {
   "display_name": "Python 3",
   "language": "python",
   "name": "python3"
  },
  "language_info": {
   "codemirror_mode": {
    "name": "ipython",
    "version": 3
   },
   "file_extension": ".py",
   "mimetype": "text/x-python",
   "name": "python",
   "nbconvert_exporter": "python",
   "pygments_lexer": "ipython3",
   "version": "3.6.10"
  }
 },
 "nbformat": 4,
 "nbformat_minor": 2
}
